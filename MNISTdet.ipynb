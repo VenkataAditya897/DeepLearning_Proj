{
 "cells": [
  {
   "cell_type": "code",
   "execution_count": 71,
   "id": "3950156d-5986-45bb-ba86-73f7954973e2",
   "metadata": {},
   "outputs": [],
   "source": [
    "import numpy as np\n",
    "import tensorflow as tf\n",
    "import warnings\n",
    "warnings.filterwarnings('ignore')"
   ]
  },
  {
   "cell_type": "code",
   "execution_count": 72,
   "id": "bfc1b0c4-215a-4f9f-b2c5-9f51209eb2ac",
   "metadata": {},
   "outputs": [],
   "source": [
    "mnist=tf.keras.datasets.mnist\n",
    "(x_train,y_train),(x_test,y_test)=mnist.load_data()"
   ]
  },
  {
   "cell_type": "code",
   "execution_count": 73,
   "id": "de98b8f9-3d98-4ef7-92c6-79450e87b324",
   "metadata": {},
   "outputs": [
    {
     "data": {
      "image/png": "[encoded data removed]",
      "text/plain": [
       "<Figure size 640x480 with 1 Axes>"
      ]
     },
     "metadata": {},
     "output_type": "display_data"
    }
   ],
   "source": [
    "import matplotlib.pyplot as plt\n",
    "plt.imshow(x_train[2],cmap='gray')\n",
    "plt.show()"
   ]
  },
  {
   "cell_type": "code",
   "execution_count": 74,
   "id": "6d1dbed1-b902-4cb5-9caa-f47c1d49e50b",
   "metadata": {},
   "outputs": [
    {
     "data": {
      "image/png": "[encoded data removed]",
      "text/plain": [
       "<Figure size 640x480 with 10 Axes>"
      ]
     },
     "metadata": {},
     "output_type": "display_data"
    },
    {
     "data": {
      "text/plain": [
       "(60000, 28, 28)"
      ]
     },
     "execution_count": 74,
     "metadata": {},
     "output_type": "execute_result"
    }
   ],
   "source": [
    "for i in range(10):\n",
    "    plt.subplot(2,5,i+1)\n",
    "    plt.imshow(x_train[i],cmap='gray')\n",
    "    plt.axis=False\n",
    "plt.show()\n",
    "x_train.shape"
   ]
  },
  {
   "cell_type": "code",
   "execution_count": 75,
   "id": "9017072e-98f2-420f-8c64-1fe9ccbb140c",
   "metadata": {},
   "outputs": [
    {
     "data": {
      "text/plain": [
       "(60000, 28, 28)"
      ]
     },
     "execution_count": 75,
     "metadata": {},
     "output_type": "execute_result"
    }
   ],
   "source": [
    "x_train=x_train.astype('float32')/255\n",
    "x_test=x_test.astype('float32')/255\n",
    "x_train.shape"
   ]
  },
  {
   "cell_type": "code",
   "execution_count": 76,
   "id": "a4a4600f-98f1-4586-826e-0ef563c25a3c",
   "metadata": {},
   "outputs": [
    {
     "data": {
      "text/plain": [
       "(60000, 28, 28, 1)"
      ]
     },
     "execution_count": 76,
     "metadata": {},
     "output_type": "execute_result"
    }
   ],
   "source": [
    "x_train=np.expand_dims(x_train,axis=-1)\n",
    "x_test=np.expand_dims(x_test,axis=-1)\n",
    "x_train.shape"
   ]
  },
  {
   "cell_type": "code",
   "execution_count": 77,
   "id": "48aa7161-74af-42ad-882e-f0646f952074",
   "metadata": {},
   "outputs": [],
   "source": [
    "from tensorflow.keras.utils import to_categorical\n",
    "y_train=to_categorical(y_train)\n",
    "y_test=to_categorical(y_test)"
   ]
  },
  {
   "cell_type": "code",
   "execution_count": 79,
   "id": "46f0794d-46ce-4f1c-aff9-98392e50957a",
   "metadata": {},
   "outputs": [],
   "source": [
    "from tensorflow.keras.models import Sequential\n",
    "from tensorflow.keras.layers import Flatten,Dense,Conv2D,MaxPooling2D\n",
    "model=Sequential()\n",
    "model.add(Conv2D(32, (3,3),activation='relu',input_shape=x_train.shape[1:]))\n",
    "model.add(MaxPooling2D((2,2)))\n",
    "model.add(Conv2D(64, (3,3),activation='relu'))\n",
    "model.add(MaxPooling2D((2,2)))\n",
    "model.add(Flatten())\n",
    "model.add(Dense(10,activation='softmax'))"
   ]
  },
  {
   "cell_type": "code",
   "execution_count": 81,
   "id": "2e1ebba2-88fb-45bf-ba69-9653c655f293",
   "metadata": {},
   "outputs": [],
   "source": [
    "model.compile(optimizer='adam',loss='categorical_crossentropy',metrics=['accuracy'])"
   ]
  },
  {
   "cell_type": "code",
   "execution_count": 85,
   "id": "eb69e81b-35df-480f-8a6a-fc27b6bd2aa8",
   "metadata": {},
   "outputs": [],
   "source": [
    "from tensorflow.keras.callbacks import EarlyStopping,ModelCheckpoint\n",
    "es=EarlyStopping(monitor='val_accuracy',verbose=1,min_delta=0.01,patience=4)\n",
    "mc=ModelCheckpoint('amazing.h5',monitor='val_accuracy',verbose=1,save_best_only=True)\n",
    "cb=[es,mc]"
   ]
  },
  {
   "cell_type": "code",
   "execution_count": 86,
   "id": "7602ff11-b698-48b1-a52b-eb66ed765a67",
   "metadata": {},
   "outputs": [
    {
     "name": "stdout",
     "output_type": "stream",
     "text": [
      "Epoch 1/50\n",
      "1312/1313 [============================>.] - ETA: 0s - loss: 0.1983 - accuracy: 0.9391\n",
      "Epoch 1: val_accuracy improved from -inf to 0.97533, saving model to amazing.h5\n",
      "1313/1313 [==============================] - 131s 98ms/step - loss: 0.1983 - accuracy: 0.9391 - val_loss: 0.0798 - val_accuracy: 0.9753\n",
      "Epoch 2/50\n",
      "1312/1313 [============================>.] - ETA: 0s - loss: 0.0621 - accuracy: 0.9805\n",
      "Epoch 2: val_accuracy improved from 0.97533 to 0.98000, saving model to amazing.h5\n",
      "1313/1313 [==============================] - 113s 86ms/step - loss: 0.0622 - accuracy: 0.9805 - val_loss: 0.0645 - val_accuracy: 0.9800\n",
      "Epoch 3/50\n",
      "1312/1313 [============================>.] - ETA: 0s - loss: 0.0440 - accuracy: 0.9861\n",
      "Epoch 3: val_accuracy improved from 0.98000 to 0.98167, saving model to amazing.h5\n",
      "1313/1313 [==============================] - 87s 66ms/step - loss: 0.0440 - accuracy: 0.9861 - val_loss: 0.0598 - val_accuracy: 0.9817\n",
      "Epoch 4/50\n",
      "1312/1313 [============================>.] - ETA: 0s - loss: 0.0341 - accuracy: 0.9895\n",
      "Epoch 4: val_accuracy improved from 0.98167 to 0.98422, saving model to amazing.h5\n",
      "1313/1313 [==============================] - 86s 65ms/step - loss: 0.0341 - accuracy: 0.9895 - val_loss: 0.0517 - val_accuracy: 0.9842\n",
      "Epoch 5/50\n",
      "1312/1313 [============================>.] - ETA: 0s - loss: 0.0273 - accuracy: 0.9913\n",
      "Epoch 5: val_accuracy improved from 0.98422 to 0.98633, saving model to amazing.h5\n",
      "1313/1313 [==============================] - 99s 75ms/step - loss: 0.0273 - accuracy: 0.9913 - val_loss: 0.0463 - val_accuracy: 0.9863\n",
      "Epoch 6/50\n",
      "1312/1313 [============================>.] - ETA: 0s - loss: 0.0221 - accuracy: 0.9930\n",
      "Epoch 6: val_accuracy did not improve from 0.98633\n",
      "1313/1313 [==============================] - 93s 71ms/step - loss: 0.0221 - accuracy: 0.9930 - val_loss: 0.0486 - val_accuracy: 0.9854\n",
      "Epoch 7/50\n",
      "1312/1313 [============================>.] - ETA: 0s - loss: 0.0181 - accuracy: 0.9943\n",
      "Epoch 7: val_accuracy improved from 0.98633 to 0.98661, saving model to amazing.h5\n",
      "1313/1313 [==============================] - 89s 67ms/step - loss: 0.0182 - accuracy: 0.9943 - val_loss: 0.0518 - val_accuracy: 0.9866\n",
      "Epoch 8/50\n",
      "1313/1313 [==============================] - ETA: 0s - loss: 0.0141 - accuracy: 0.9952\n",
      "Epoch 8: val_accuracy did not improve from 0.98661\n",
      "1313/1313 [==============================] - 97s 74ms/step - loss: 0.0141 - accuracy: 0.9952 - val_loss: 0.0512 - val_accuracy: 0.9862\n",
      "Epoch 9/50\n",
      "1312/1313 [============================>.] - ETA: 0s - loss: 0.0120 - accuracy: 0.9959\n",
      "Epoch 9: val_accuracy improved from 0.98661 to 0.98722, saving model to amazing.h5\n",
      "1313/1313 [==============================] - 100s 76ms/step - loss: 0.0120 - accuracy: 0.9959 - val_loss: 0.0532 - val_accuracy: 0.9872\n",
      "Epoch 9: early stopping\n"
     ]
    },
    {
     "data": {
      "text/plain": [
       "<keras.src.callbacks.History at 0x20fb5470110>"
      ]
     },
     "execution_count": 86,
     "metadata": {},
     "output_type": "execute_result"
    }
   ],
   "source": [
    "model.fit(x_train,y_train,validation_split=0.3,epochs=50,callbacks=cb)"
   ]
  },
  {
   "cell_type": "code",
   "execution_count": 1,
   "id": "4c7dab02-678d-4c51-ba24-e6177f61bd03",
   "metadata": {},
   "outputs": [],
   "source": [
    "import tensorflow as tf\n",
    "MODEL=tf.keras.models.load_model('amazing.h5')"
   ]
  },
  {
   "cell_type": "code",
   "execution_count": 2,
   "id": "8f7b3030-3e0f-4e9e-a3b1-a39b60f43749",
   "metadata": {},
   "outputs": [
    {
     "name": "stdout",
     "output_type": "stream",
     "text": [
      "pygame 2.5.1 (SDL 2.28.2, Python 3.11.4)\n",
      "Hello from the pygame community. https://www.pygame.org/contribute.html\n"
     ]
    }
   ],
   "source": [
    "import tensorflow as tf\n",
    "import pygame,sys\n",
    "from pygame.locals import *\n",
    "import numpy as np\n",
    "import matplotlib.pyplot as plt\n",
    "from keras.models import load_model\n",
    "import cv2"
   ]
  },
  {
   "cell_type": "code",
   "execution_count": 3,
   "id": "b553daf7-f277-4011-aa78-dc4a1bae6382",
   "metadata": {},
   "outputs": [],
   "source": [
    "pygame.init()\n",
    "WINDOWSIZEX=640\n",
    "WINDOWSIZEY=480\n",
    "BOUNDARYINC=5"
   ]
  },
  {
   "cell_type": "code",
   "execution_count": 4,
   "id": "6738f84b-41d8-4344-a76b-e5145d0395f2",
   "metadata": {},
   "outputs": [],
   "source": [
    "FONT=pygame.font.Font(None,20)\n",
    "\n",
    "WHITE=(225,225,225)\n",
    "BLACK=(0,0,0)\n",
    "RED=(225,0,0)\n",
    "\n",
    "IMAGESAVE=False\n",
    "\n",
    "PRED=True"
   ]
  },
  {
   "cell_type": "code",
   "execution_count": 5,
   "id": "730bac23-21c8-475c-80ad-dda75c98590e",
   "metadata": {},
   "outputs": [],
   "source": [
    "LABELS={\n",
    "    0:'ZERO',1:'ONE',2:'TWO',3:'THREE',4:'FOUR',5:'FIVE',6:'SIX',7:'SEVEN',8:'EIGHT',9:'NINE'\n",
    "}"
   ]
  },
  {
   "cell_type": "code",
   "execution_count": 6,
   "id": "d58a3485-2d3a-4140-bf66-336108f3213d",
   "metadata": {},
   "outputs": [],
   "source": [
    "imdrawing=False\n",
    "\n",
    "DISPLAYSURF=pygame.display.set_mode((WINDOWSIZEX,WINDOWSIZEY))\n",
    "pygame.display.set_caption('Digital Board')\n",
    "number_xcord=[]\n",
    "number_ycord=[]\n"
   ]
  },
  {
   "cell_type": "code",
   "execution_count": 7,
   "id": "b42e2823-204e-4ece-b329-5794b28f1e59",
   "metadata": {},
   "outputs": [
    {
     "name": "stdout",
     "output_type": "stream",
     "text": [
      "1/1 [==============================] - 0s 279ms/step\n",
      "1/1 [==============================] - 0s 50ms/step\n",
      "1/1 [==============================] - 0s 48ms/step\n",
      "1/1 [==============================] - 0s 51ms/step\n",
      "1/1 [==============================] - 0s 51ms/step\n",
      "1/1 [==============================] - 0s 49ms/step\n",
      "1/1 [==============================] - 0s 48ms/step\n",
      "1/1 [==============================] - 0s 50ms/step\n",
      "1/1 [==============================] - 0s 48ms/step\n",
      "1/1 [==============================] - 0s 49ms/step\n",
      "1/1 [==============================] - 0s 50ms/step\n"
     ]
    },
    {
     "ename": "SystemExit",
     "evalue": "",
     "output_type": "error",
     "traceback": [
      "An exception has occurred, use %tb to see the full traceback.\n",
      "\u001b[1;31mSystemExit\u001b[0m\n"
     ]
    },
    {
     "name": "stderr",
     "output_type": "stream",
     "text": [
      "C:\\Users\\hp\\AppData\\Local\\Programs\\Python\\Python311\\Lib\\site-packages\\IPython\\core\\interactiveshell.py:3534: UserWarning: To exit: use 'exit', 'quit', or Ctrl-D.\n",
      "  warn(\"To exit: use 'exit', 'quit', or Ctrl-D.\", stacklevel=1)\n"
     ]
    }
   ],
   "source": [
    "while True:\n",
    "    for event in pygame.event.get():\n",
    "        if event.type==QUIT:\n",
    "            pygame.quit()\n",
    "            sys.exit()\n",
    "        if event.type==MOUSEMOTION and imdrawing:\n",
    "            x_cord, y_cord = event.pos\n",
    "            pygame.draw.circle(DISPLAYSURF,WHITE,(x_cord,y_cord),6,0)\n",
    "            number_xcord.append(x_cord)\n",
    "            number_ycord.append(y_cord)\n",
    "        if event.type==MOUSEBUTTONDOWN:\n",
    "            imdrawing=True\n",
    "        if event.type==MOUSEBUTTONUP:\n",
    "            imdrawing=False\n",
    "            number_xcord=sorted(number_xcord)\n",
    "            number_ycord=sorted(number_ycord)\n",
    "\n",
    "            rect_min_x,rect_max_x=max(number_xcord[0]-BOUNDARYINC,0),min(WINDOWSIZEX,number_xcord[-1]+BOUNDARYINC)\n",
    "            rect_min_y,rect_max_y=max(number_ycord[0]-BOUNDARYINC,0),min(WINDOWSIZEX,number_ycord[-1]+BOUNDARYINC)\n",
    "\n",
    "            number_xcord=[]\n",
    "            number_ycord=[]\n",
    "            img_arr=np.array(pygame.PixelArray(DISPLAYSURF))[rect_min_x:rect_max_x,rect_min_y:rect_max_y].T.astype(np.float32)\n",
    "\n",
    "            if event.type==KEYDOWN:\n",
    "                if event.unicode=='n':\n",
    "                    DISPLAYSURF.fill(BLACK)\n",
    "\n",
    "            if PRED:\n",
    "                image=cv2.resize(img_arr,(28,28))\n",
    "                image=np.pad(img_arr,(10,10),constant_values=0)\n",
    "                image=cv2.resize(image,(28,28))/255\n",
    "\n",
    "                label=str(LABELS[np.argmax(MODEL.predict(image.reshape(1,28,28,1)))])\n",
    "\n",
    "                ts=FONT.render(label,True,RED,WHITE)\n",
    "                textRecObj= ts.get_rect()\n",
    "                textRecObj.left,textRecObj.bottom=rect_min_x,rect_max_y\n",
    "                DISPLAYSURF.blit(ts,textRecObj)\n",
    "\n",
    "\n",
    "    pygame.display.update()"
   ]
  },
  {
   "cell_type": "code",
   "execution_count": null,
   "id": "ad0ae115-8a29-408f-a03e-8667cb912ac4",
   "metadata": {},
   "outputs": [],
   "source": []
  }
 ],
 "metadata": {
  "kernelspec": {
   "display_name": "Python 3 (ipykernel)",
   "language": "python",
   "name": "python3"
  },
  "language_info": {
   "codemirror_mode": {
    "name": "ipython",
    "version": 3
   },
   "file_extension": ".py",
   "mimetype": "text/x-python",
   "name": "python",
   "nbconvert_exporter": "python",
   "pygments_lexer": "ipython3",
   "version": "3.11.4"
  }
 },
 "nbformat": 4,
 "nbformat_minor": 5
}
